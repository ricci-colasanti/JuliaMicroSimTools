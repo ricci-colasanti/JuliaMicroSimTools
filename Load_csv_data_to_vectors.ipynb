{
 "cells": [
  {
   "cell_type": "code",
   "execution_count": 1,
   "id": "6174089a-a8ac-4fab-9067-915d04173a46",
   "metadata": {},
   "outputs": [
    {
     "data": {
      "text/plain": [
       "load_csv_with_headers (generic function with 1 method)"
      ]
     },
     "execution_count": 1,
     "metadata": {},
     "output_type": "execute_result"
    }
   ],
   "source": [
    "function load_csv_with_headers(filename::String)\n",
    "    data = []\n",
    "    headers = String[]\n",
    "    \n",
    "    open(filename, \"r\") do file\n",
    "        # Read headers from first line\n",
    "        first_line = readline(file)\n",
    "        headers = split(first_line, \",\")\n",
    "        \n",
    "        # Read data lines\n",
    "        for line in eachline(file)\n",
    "            row = [parse(Int, x) for x in split(line, \",\")]\n",
    "            push!(data, row)\n",
    "        end\n",
    "    end\n",
    "    \n",
    "    return headers, data\n",
    "end;"
   ]
  },
  {
   "cell_type": "code",
   "execution_count": 8,
   "id": "befb854d-7a3e-4bad-8ed3-5411e8f9f021",
   "metadata": {},
   "outputs": [
    {
     "name": "stdout",
     "output_type": "stream",
     "text": [
      "SubString{String}[\"m\", \"f\", \"0-16\", \"17-21\", \"21-40\", \"40-66\", \"67+\"]\n",
      "[33, 34, 23, 5, 8, 31, 0]\n",
      "10\n"
     ]
    }
   ],
   "source": [
    "cencus_headers, cencus_data = load_csv_with_headers(\"Data/toy_cencus.csv\");\n",
    "println(cencus_headers)\n",
    "println(cencus_data[1])\n",
    "println(length(cencus_data))"
   ]
  },
  {
   "cell_type": "code",
   "execution_count": 9,
   "id": "ac68c853-9770-4465-b3b3-b8be2964597d",
   "metadata": {},
   "outputs": [
    {
     "name": "stdout",
     "output_type": "stream",
     "text": [
      "SubString{String}[\"m\", \"f\", \"0-16\", \"17-21\", \"21-40\", \"40-66\", \"67+\"]\n",
      "[1, 0, 0, 0, 0, 0, 1]\n",
      "200\n"
     ]
    }
   ],
   "source": [
    "survay_headers, survay_data = load_csv_with_headers(\"Data/toy_survay.csv\");\n",
    "println(survay_headers)\n",
    "println(survay_data[1])\n",
    "println(length(survay_data))"
   ]
  },
  {
   "cell_type": "code",
   "execution_count": 7,
   "id": "02d9bcb8-61d9-43c4-82e5-b394bd61710d",
   "metadata": {},
   "outputs": [
    {
     "data": {
      "text/plain": [
       "true"
      ]
     },
     "execution_count": 7,
     "metadata": {},
     "output_type": "execute_result"
    }
   ],
   "source": [
    "cencus_headers == survay_headers"
   ]
  },
  {
   "cell_type": "code",
   "execution_count": null,
   "id": "d5c3c59f-981f-45d2-b0e7-4cf689ae4c7b",
   "metadata": {},
   "outputs": [],
   "source": []
  }
 ],
 "metadata": {
  "kernelspec": {
   "display_name": "Julia 1.11.7",
   "language": "julia",
   "name": "julia-1.11"
  },
  "language_info": {
   "file_extension": ".jl",
   "mimetype": "application/julia",
   "name": "julia",
   "version": "1.11.7"
  }
 },
 "nbformat": 4,
 "nbformat_minor": 5
}
