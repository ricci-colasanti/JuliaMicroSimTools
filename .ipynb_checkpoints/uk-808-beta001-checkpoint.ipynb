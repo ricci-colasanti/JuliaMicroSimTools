{
 "cells": [
  {
   "cell_type": "code",
   "execution_count": 1,
   "id": "41116a2b-a511-4fd7-a96b-ce049d63f40e",
   "metadata": {},
   "outputs": [],
   "source": [
    "using DelimitedFiles"
   ]
  },
  {
   "cell_type": "code",
   "execution_count": 2,
   "id": "a288b907-8434-41f1-8450-8b709e8516e4",
   "metadata": {},
   "outputs": [],
   "source": [
    "function load_csv_with_headers_matrix(filename::String)\n",
    "    # Read headers separately\n",
    "    headers = readline(filename) |> line -> split(line, \",\")\n",
    "    \n",
    "    # Read data as matrix (skip header row)\n",
    "    data_matrix = readdlm(filename, ',', Int; skipstart=1)\n",
    "    return headers, data_matrix\n",
    "end;"
   ]
  },
  {
   "cell_type": "code",
   "execution_count": 3,
   "id": "befb854d-7a3e-4bad-8ed3-5411e8f9f021",
   "metadata": {},
   "outputs": [
    {
     "name": "stdout",
     "output_type": "stream",
     "text": [
      "true\n"
     ]
    }
   ],
   "source": [
    "cencus_headers, cencus_data = load_csv_with_headers_matrix(\"Data/toy_cencus.csv\");\n",
    "survay_headers, survay_data = load_csv_with_headers_matrix(\"Data/toy_survay.csv\");\n",
    "println(cencus_headers == survay_headers)"
   ]
  },
  {
   "cell_type": "code",
   "execution_count": 4,
   "id": "d5c3c59f-981f-45d2-b0e7-4cf689ae4c7b",
   "metadata": {},
   "outputs": [],
   "source": [
    "area = 1  # First area (row 1)\n",
    "total = cencus_data[area, 1] + cencus_data[area, 2]  # Row 1, Cols 1 + 2\n",
    "survey_data_length = size(survay_data,1);\n",
    "random_indices = rand(1:survey_data_length, total);"
   ]
  },
  {
   "cell_type": "code",
   "execution_count": 5,
   "id": "2637591e-5d95-4012-9ae1-25d4c7b9bcc1",
   "metadata": {},
   "outputs": [],
   "source": [
    "cols = length(survay_headers)\n",
    "synth_pop_totals = zeros(Int,1,cols )  # 1×5 Matrix: [0.0 0.0 0.0 0.0 0.0]\n",
    "for i in random_indices\n",
    "    for j in 1:cols\n",
    "        synth_pop_totals[j]+=survay_data[i,j]\n",
    "    end\n",
    "end"
   ]
  },
  {
   "cell_type": "code",
   "execution_count": 6,
   "id": "e00cc4cf-6508-4073-b9c7-8dc1306b6525",
   "metadata": {},
   "outputs": [],
   "source": [
    "function mutate(random_indices, survay_data, synth_pop_totals)\n",
    "    \"\"\"\n",
    "    Mutate a synthetic population by swapping one individual for another and calculate the new fitness.\n",
    "    \n",
    "    This function performs a mutation operation on a synthetic population by:\n",
    "    1. Randomly selecting an individual to remove from the current population\n",
    "    2. Randomly selecting an individual to add from the survey data\n",
    "    3. Calculating the new population totals and Manhattan distance fitness\n",
    "    \n",
    "    # Arguments\n",
    "    - `random_indices::Vector{Int}`: Vector of indices mapping to individuals in the synthetic population\n",
    "    - `survay_data::Matrix`: Survey data matrix where each row represents an individual\n",
    "    - `synth_pop_totals::Matrix`: Current synthetic population totals (row vector)\n",
    "    \n",
    "    # Returns\n",
    "    - `remove_person_pos::Int`: Position in random_indices of the removed individual\n",
    "    - `add_person_idx::Int`: Index in survay_data of the added individual  \n",
    "    - `temp_manhattan_dist::Number`: Manhattan distance of the new population from census data\n",
    "    - `temp_synth_pop_totals::Matrix`: New synthetic population totals after mutation\n",
    "    \"\"\"\n",
    "    \n",
    "    # Validate input dimensions\n",
    "    @assert size(synth_pop_totals, 1) == 1 \"synth_pop_totals should be a row vector\"\n",
    "    @assert size(survay_data, 2) == size(synth_pop_totals, 2) \"Dimension mismatch between survey data and population totals\"\n",
    "    \n",
    "    # Pick a random individual from the synthetic population to remove\n",
    "    remove_person_pos = rand(1:length(random_indices))\n",
    "    remove_person_idx = random_indices[remove_person_pos]\n",
    "    \n",
    "    # Extract the individual's data as a row vector (maintains matrix dimensions)\n",
    "    remove_person = survay_data[remove_person_pos:remove_person_pos, :]\n",
    "    \n",
    "    # Pick a random individual from the survey data to add  \n",
    "    survey_data_length = size(survay_data, 1)\n",
    "    add_person_idx = rand(1:survey_data_length)\n",
    "    add_person = survay_data[add_person_idx:add_person_idx, :]\n",
    "    \n",
    "    # Create temporary population totals by swapping individuals\n",
    "    # Note: Both remove_person and add_person are row vectors for dimension compatibility\n",
    "    temp_synth_pop_totals = synth_pop_totals - remove_person + add_person\n",
    "    \n",
    "    # Calculate Manhattan distance between new population and census data\n",
    "    # Assuming 'area' and 'cencus_data' are defined in outer scope (consider passing as parameters)\n",
    "    temp_manhattan_dist = sum(abs.(temp_synth_pop_totals - cencus_data[area:area, :]))\n",
    "    \n",
    "    return remove_person_pos, add_person_idx, temp_synth_pop_totals , temp_manhattan_dist\n",
    "end;"
   ]
  },
  {
   "cell_type": "code",
   "execution_count": 7,
   "id": "fd16103a-99ad-422a-a413-4e249bb43608",
   "metadata": {},
   "outputs": [
    {
     "data": {
      "text/plain": [
       "annealing (generic function with 1 method)"
      ]
     },
     "execution_count": 7,
     "metadata": {},
     "output_type": "execute_result"
    }
   ],
   "source": [
    "function annealing(random_indices, survay_data, synth_pop_totals)\n",
    "    \"\"\"\n",
    "    Performs simulated annealing to optimize synthetic population allocation.\n",
    "    \n",
    "    This function iteratively improves a synthetic population by randomly mutating\n",
    "    individuals and accepting changes based on both improvement probability\n",
    "    and a cooling temperature schedule.\n",
    "    \n",
    "    # Arguments\n",
    "    - `random_indices`: Initial random indices for population selection\n",
    "    - `survay_data`: Survey data used for mutation operations\n",
    "    - `synth_pop_totals`: Current synthetic population totals to be optimized\n",
    "    \n",
    "    # Returns\n",
    "    - `random_indices`: Optimized indices after simulated annealing process\n",
    "    \"\"\"\n",
    "    \n",
    "    # Cooling parameters for simulated annealing\n",
    "    temperature = 1.0              # Initial temperature (high for more exploration)\n",
    "    cooling_rate = 0.95            # Geometric cooling rate (0.85-0.99 typical)\n",
    "    min_temperature = 0.0000000001 # Minimum temperature to prevent underflow\n",
    "    \n",
    "    # Calculate initial fitness using Manhattan distance between synthetic and census data\n",
    "    manhattan_dist = sum(abs.(synth_pop_totals - cencus_data[area:area,:]))\n",
    "    counter = 0  # Counter for consecutive rejected mutations\n",
    "    \n",
    "    # Main annealing loop: continue until convergence or max iterations\n",
    "    while counter < 200 && manhattan_dist > 0 \n",
    "        # Generate a mutation: swap one individual in the population\n",
    "        remove_person_pos, add_person_idx, temp_synth_pop_totals, temp_manhattan_dist = \n",
    "            mutate(random_indices, survay_data, synth_pop_totals)\n",
    "        \n",
    "        # Calculate change in fitness (negative delta = improvement)\n",
    "        delta = temp_manhattan_dist - manhattan_dist\n",
    "        \n",
    "        # Simulated annealing acceptance criteria:\n",
    "        # - Always accept improvements (delta < 0)\n",
    "        # - Sometimes accept worse solutions based on temperature and randomness\n",
    "        #   (higher temperature = more likely to accept worse moves)\n",
    "        if delta < 0 || exp(-delta / temperature) > rand()\n",
    "            # Accept the mutation: update population and fitness\n",
    "            random_indices[remove_person_pos] = add_person_idx\n",
    "            synth_pop_totals = temp_synth_pop_totals\n",
    "            manhattan_dist = temp_manhattan_dist\n",
    "            counter = 0  # Reset counter after successful mutation\n",
    "        else\n",
    "            # Reject the mutation: increment counter\n",
    "            counter += 1\n",
    "        end\n",
    "        \n",
    "        # Cool down: reduce temperature geometrically\n",
    "        # This gradually shifts from exploration to exploitation\n",
    "        temperature *= cooling_rate\n",
    "        \n",
    "        # Print current fitness for monitoring progress\n",
    "        print(\"$manhattan_dist \")\n",
    "    end\n",
    "    \n",
    "    return random_indices  # Return optimized population indices\n",
    "end;"
   ]
  },
  {
   "cell_type": "code",
   "execution_count": 8,
   "id": "619c1534-dd0a-45ce-ba40-9a3b844cf006",
   "metadata": {},
   "outputs": [
    {
     "name": "stdout",
     "output_type": "stream",
     "text": [
      "[42, 178, 150, 78, 94, 62, 144, 32, 154, 46, 157, 88, 96, 69, 22, 176, 12, 154, 2, 116, 128, 51, 41, 45, 68, 26, 125, 81, 58, 118, 39, 85, 137, 129, 128, 112, 86, 64, 58, 164, 22, 92, 25, 134, 175, 175, 79, 34, 17, 76, 199, 135, 144, 127, 154, 19, 176, 36, 143, 118, 172, 80, 166, 189, 74, 198, 190]\n",
      "60 60 60 60 60 58 58 58 58 56 56 56 56 58 58 56 56 56 56 56 56 56 56 54 54 54 54 54 52 52 50 50 50 50 48 48 48 48 48 48 48 48 48 48 48 48 48 48 48 48 48 46 46 46 46 46 46 46 44 44 44 44 44 44 44 44 44 44 44 44 44 44 44 44 44 42 42 40 38 38 38 38 38 38 38 38 38 38 36 34 34 34 34 32 32 32 32 30 28 28 28 24 24 24 24 24 22 22 20 20 20 20 20 18 18 18 18 18 18 16 16 16 14 14 14 14 14 14 14 12 12 12 12 12 12 12 12 12 12 12 12 12 12 12 12 12 12 12 12 12 12 12 12 12 12 12 12 10 8 8 8 8 6 6 6 6 6 6 6 6 6 4 4 4 4 4 4 4 4 4 4 4 2 2 2 2 2 2 2 2 2 2 2 2 2 2 2 2 2 2 2 2 2 2 2 2 2 2 2 2 2 2 2 2 2 2 2 2 2 2 2 2 2 2 2 2 2 2 2 2 2 2 2 2 2 2 2 2 2 0 [42, 178, 63, 78, 78, 29, 144, 82, 39, 40, 10, 88, 170, 69, 22, 53, 104, 196, 124, 139, 128, 114, 41, 45, 142, 107, 100, 151, 30, 29, 128, 12, 195, 193, 169, 123, 149, 197, 31, 69, 22, 31, 25, 73, 153, 146, 79, 65, 17, 100, 133, 11, 144, 17, 154, 25, 73, 33, 136, 91, 37, 29, 101, 189, 88, 148, 190]\n"
     ]
    }
   ],
   "source": [
    "println(random_indices)\n",
    "synthpop = annealing(random_indices, survay_data, synth_pop_totals)\n",
    "println(synthpop)"
   ]
  },
  {
   "cell_type": "code",
   "execution_count": null,
   "id": "108ac74b-a155-41a5-bf63-07bb2c65600c",
   "metadata": {},
   "outputs": [],
   "source": []
  }
 ],
 "metadata": {
  "kernelspec": {
   "display_name": "Julia 1.11.7",
   "language": "julia",
   "name": "julia-1.11"
  },
  "language_info": {
   "file_extension": ".jl",
   "mimetype": "application/julia",
   "name": "julia",
   "version": "1.11.7"
  }
 },
 "nbformat": 4,
 "nbformat_minor": 5
}
