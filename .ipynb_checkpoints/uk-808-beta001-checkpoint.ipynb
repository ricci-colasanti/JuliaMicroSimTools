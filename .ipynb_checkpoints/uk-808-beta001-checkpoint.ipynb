{
 "cells": [
  {
   "cell_type": "code",
   "execution_count": 29,
   "id": "41116a2b-a511-4fd7-a96b-ce049d63f40e",
   "metadata": {},
   "outputs": [],
   "source": [
    "using DelimitedFiles"
   ]
  },
  {
   "cell_type": "code",
   "execution_count": 42,
   "id": "a288b907-8434-41f1-8450-8b709e8516e4",
   "metadata": {},
   "outputs": [],
   "source": [
    "function load_csv_with_headers_matrix(filename::String)\n",
    "    # Read headers separately\n",
    "    headers = readline(filename) |> line -> split(line, \",\")\n",
    "    \n",
    "    # Read data as matrix (skip header row)\n",
    "    data_matrix = readdlm(filename, ',', Int; skipstart=1)\n",
    "    return headers, data_matrix\n",
    "end;"
   ]
  },
  {
   "cell_type": "markdown",
   "id": "6ce6fe38-7f4e-4788-bd7d-c366fd3badf0",
   "metadata": {},
   "source": [
    "\n",
    "Breaking it down:\n",
    "\n",
    "###  `readdlm(filename, ',', Int; skipstart=1)`**\n",
    "- `readdlm` returns a `Matrix` when all elements are the same type\n",
    "- `Int` parameter forces integer parsing → `Matrix{Int}`\n",
    "- `skipstart=1` skips the header line\n",
    "\n"
   ]
  },
  {
   "cell_type": "code",
   "execution_count": 43,
   "id": "befb854d-7a3e-4bad-8ed3-5411e8f9f021",
   "metadata": {},
   "outputs": [
    {
     "name": "stdout",
     "output_type": "stream",
     "text": [
      "SubString{String}[\"m\", \"f\", \"0-16\", \"17-21\", \"21-40\", \"40-66\", \"67+\"]\n",
      "33\n",
      "70\n"
     ]
    }
   ],
   "source": [
    "cencus_headers, cencus_data = load_csv_with_headers_matrix(\"Data/toy_cencus.csv\");\n",
    "println(cencus_headers)\n",
    "println(cencus_data[1])\n",
    "println(length(cencus_data))"
   ]
  },
  {
   "cell_type": "code",
   "execution_count": 47,
   "id": "ac68c853-9770-4465-b3b3-b8be2964597d",
   "metadata": {},
   "outputs": [
    {
     "name": "stdout",
     "output_type": "stream",
     "text": [
      "SubString{String}[\"m\", \"f\", \"0-16\", \"17-21\", \"21-40\", \"40-66\", \"67+\"]\n",
      "1\n",
      "1400\n"
     ]
    }
   ],
   "source": [
    "survay_headers, survay_data = load_csv_with_headers_matrix(\"Data/toy_survay.csv\");\n",
    "println(survay_headers)\n",
    "println(survay_data[1])\n",
    "println(length(survay_data))"
   ]
  },
  {
   "cell_type": "code",
   "execution_count": 48,
   "id": "02d9bcb8-61d9-43c4-82e5-b394bd61710d",
   "metadata": {},
   "outputs": [
    {
     "data": {
      "text/plain": [
       "true"
      ]
     },
     "execution_count": 48,
     "metadata": {},
     "output_type": "execute_result"
    }
   ],
   "source": [
    "cencus_headers == survay_headers"
   ]
  },
  {
   "cell_type": "code",
   "execution_count": 49,
   "id": "d65c6beb-cbe5-49b9-ad68-58bf87445bfb",
   "metadata": {},
   "outputs": [
    {
     "name": "stdout",
     "output_type": "stream",
     "text": [
      "true"
     ]
    }
   ],
   "source": [
    "print( isa(cencus_data, Matrix))\n",
    "    "
   ]
  },
  {
   "cell_type": "code",
   "execution_count": 54,
   "id": "d5c3c59f-981f-45d2-b0e7-4cf689ae4c7b",
   "metadata": {},
   "outputs": [
    {
     "name": "stdout",
     "output_type": "stream",
     "text": [
      "67"
     ]
    }
   ],
   "source": [
    "area = 1  # First area (row 1)\n",
    "total = cencus_data[area, 1] + cencus_data[area, 2]  # Row 1, Cols 1 + 2\n",
    "survey_data_length = size(survay_data,1)\n",
    "random_indices = rand(1:survey_data_length, total);"
   ]
  },
  {
   "cell_type": "code",
   "execution_count": 60,
   "id": "2637591e-5d95-4012-9ae1-25d4c7b9bcc1",
   "metadata": {},
   "outputs": [],
   "source": [
    "cols = length(survay_headers)\n",
    "totals = zeros(Int,1,cols )  # 1×5 Matrix: [0.0 0.0 0.0 0.0 0.0]\n",
    "for i in random_indices\n",
    "    for j in 1:cols\n",
    "        totals[j]+=survay_data[i,j]\n",
    "    end\n",
    "end"
   ]
  },
  {
   "cell_type": "code",
   "execution_count": 61,
   "id": "93cefeda-6f07-4c89-9d13-6dea9b569390",
   "metadata": {},
   "outputs": [
    {
     "data": {
      "text/plain": [
       "1×7 Matrix{Int64}:\n",
       " 36  31  10  14  16  15  12"
      ]
     },
     "execution_count": 61,
     "metadata": {},
     "output_type": "execute_result"
    }
   ],
   "source": [
    "totals"
   ]
  },
  {
   "cell_type": "code",
   "execution_count": 69,
   "id": "b6646abb-8c9b-4514-8b21-5d3c743ca1ea",
   "metadata": {},
   "outputs": [
    {
     "data": {
      "text/plain": [
       "64"
      ]
     },
     "execution_count": 69,
     "metadata": {},
     "output_type": "execute_result"
    }
   ],
   "source": [
    "manhattan_dist = sum(abs.(totals - cencus_data[area:area,:]))"
   ]
  },
  {
   "cell_type": "markdown",
   "id": "d6883598-8b1c-464b-9ce0-6ce6310202b8",
   "metadata": {},
   "source": [
    "\n",
    "## **`census_data[area:area, :]` Explained**\n",
    "\n",
    "### **What it does:**\n",
    "This extracts a **single row** from a 2D matrix while keeping it as a **2D matrix** (not converting to a 1D vector).\n",
    "\n",
    "---\n",
    "\n",
    "### **Breakdown:**\n",
    "```julia\n",
    "census_data[area:area, :]\n",
    "```\n",
    "\n",
    "- **`area:area`** = Creates a range from `area` to `area` (just one row)\n",
    "- **`:`** = Means \"all columns\"  \n",
    "- **Result** = A 1×N matrix containing only the specified row\n",
    "\n",
    "---\n",
    "\n",
    "\n",
    "So `area:area` be like sayin': \"Give me row number `area`, but keep it in its matrix form!\" "
   ]
  },
  {
   "cell_type": "code",
   "execution_count": null,
   "id": "e00cc4cf-6508-4073-b9c7-8dc1306b6525",
   "metadata": {},
   "outputs": [],
   "source": []
  }
 ],
 "metadata": {
  "kernelspec": {
   "display_name": "Julia 1.11.7",
   "language": "julia",
   "name": "julia-1.11"
  },
  "language_info": {
   "file_extension": ".jl",
   "mimetype": "application/julia",
   "name": "julia",
   "version": "1.11.7"
  }
 },
 "nbformat": 4,
 "nbformat_minor": 5
}
