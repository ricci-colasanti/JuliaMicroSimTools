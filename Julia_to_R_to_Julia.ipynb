{
 "cells": [
  {
   "cell_type": "markdown",
   "id": "31a0b510-4f31-4159-a13f-2fcb8d6654ea",
   "metadata": {},
   "source": [
    "**Julia_to_R_to_Julis.ipynb** – a brief demo illustrating how to run R code inside a Julia Jupyter notebook.\n",
    "\n",
    "**RCall** – an R‑Julia bridge that lets you embed R commands directly in Julia cells, enabling seamless data and function sharing between the two languages."
   ]
  },
  {
   "cell_type": "code",
   "execution_count": 3,
   "id": "4ed7ad7a-d7c9-4d29-9210-f6401a7cfbd1",
   "metadata": {},
   "outputs": [
    {
     "name": "stderr",
     "output_type": "stream",
     "text": [
      "\u001b[32m\u001b[1m   Resolving\u001b[22m\u001b[39m package versions...\n",
      "\u001b[32m\u001b[1m  No Changes\u001b[22m\u001b[39m to `~/.julia/environments/v1.11/Project.toml`\n",
      "\u001b[32m\u001b[1m  No Changes\u001b[22m\u001b[39m to `~/.julia/environments/v1.11/Manifest.toml`\n"
     ]
    }
   ],
   "source": [
    "using Pkg\n",
    "Pkg.add(\"RCall\")\n",
    "using RCall"
   ]
  },
  {
   "cell_type": "code",
   "execution_count": 4,
   "id": "72f05740-ef3a-47b2-96e5-0b9304fc1017",
   "metadata": {},
   "outputs": [
    {
     "data": {
      "text/plain": [
       "RObject{VecSxp}\n",
       "               _                           \n",
       "platform       x86_64-pc-linux-gnu         \n",
       "arch           x86_64                      \n",
       "os             linux-gnu                   \n",
       "system         x86_64, linux-gnu           \n",
       "status                                     \n",
       "major          4                           \n",
       "minor          1.2                         \n",
       "year           2021                        \n",
       "month          11                          \n",
       "day            01                          \n",
       "svn rev        81115                       \n",
       "language       R                           \n",
       "version.string R version 4.1.2 (2021-11-01)\n",
       "nickname       Bird Hippie                 \n"
      ]
     },
     "execution_count": 4,
     "metadata": {},
     "output_type": "execute_result"
    }
   ],
   "source": [
    "R\"version\""
   ]
  },
  {
   "cell_type": "code",
   "execution_count": 6,
   "id": "8d67b9f9-4045-4711-882d-bbb118b4ba67",
   "metadata": {},
   "outputs": [
    {
     "name": "stdout",
     "output_type": "stream",
     "text": [
      "[1] \"Hello from R in Pluto!\"\n"
     ]
    }
   ],
   "source": [
    "R\"print('Hello from R in Pluto!')\";"
   ]
  },
  {
   "cell_type": "code",
   "execution_count": 8,
   "id": "0f152e2d-424f-4941-a019-a9a31ce622d4",
   "metadata": {},
   "outputs": [],
   "source": [
    "julia_data = randn(100);"
   ]
  },
  {
   "cell_type": "code",
   "execution_count": 10,
   "id": "479c6f0e-1321-4f43-bc36-a7b3942c6bf9",
   "metadata": {},
   "outputs": [],
   "source": [
    "@rput julia_data;"
   ]
  },
  {
   "cell_type": "code",
   "execution_count": 13,
   "id": "933028b8-3c31-4c4b-a0d8-5efb226d92a2",
   "metadata": {},
   "outputs": [
    {
     "name": "stdout",
     "output_type": "stream",
     "text": [
      "   Min. 1st Qu.  Median    Mean 3rd Qu.    Max. \n",
      "-2.8064 -0.8064 -0.1622 -0.1521  0.6249  2.0325 \n"
     ]
    }
   ],
   "source": [
    "R\"r_summary <- summary(julia_data)\"\n",
    "R\"print(r_summary)\";"
   ]
  },
  {
   "cell_type": "code",
   "execution_count": null,
   "id": "90efec6b-1be3-47b5-b9bd-a60df7598e3f",
   "metadata": {},
   "outputs": [],
   "source": []
  }
 ],
 "metadata": {
  "kernelspec": {
   "display_name": "Julia 1.11.7",
   "language": "julia",
   "name": "julia-1.11"
  },
  "language_info": {
   "file_extension": ".jl",
   "mimetype": "application/julia",
   "name": "julia",
   "version": "1.11.7"
  }
 },
 "nbformat": 4,
 "nbformat_minor": 5
}
