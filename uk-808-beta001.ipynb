{
 "cells": [
  {
   "cell_type": "code",
   "execution_count": 42,
   "id": "41116a2b-a511-4fd7-a96b-ce049d63f40e",
   "metadata": {},
   "outputs": [],
   "source": [
    "using DelimitedFiles"
   ]
  },
  {
   "cell_type": "code",
   "execution_count": 43,
   "id": "a288b907-8434-41f1-8450-8b709e8516e4",
   "metadata": {},
   "outputs": [],
   "source": [
    "function load_csv_with_headers_matrix(filename::String)\n",
    "    # Read headers separately\n",
    "    headers = readline(filename) |> line -> split(line, \",\")\n",
    "    \n",
    "    # Read data as matrix (skip header row)\n",
    "    data_matrix = readdlm(filename, ',', Int; skipstart=1)\n",
    "    return headers, data_matrix\n",
    "end;"
   ]
  },
  {
   "cell_type": "code",
   "execution_count": 44,
   "id": "befb854d-7a3e-4bad-8ed3-5411e8f9f021",
   "metadata": {},
   "outputs": [
    {
     "name": "stdout",
     "output_type": "stream",
     "text": [
      "true\n"
     ]
    }
   ],
   "source": [
    "cencus_headers, cencus_data = load_csv_with_headers_matrix(\"Data/toy_cencus.csv\");\n",
    "survay_headers, survay_data = load_csv_with_headers_matrix(\"Data/toy_survay.csv\");\n",
    "println(cencus_headers == survay_headers)"
   ]
  },
  {
   "cell_type": "code",
   "execution_count": 45,
   "id": "d5c3c59f-981f-45d2-b0e7-4cf689ae4c7b",
   "metadata": {},
   "outputs": [],
   "source": [
    "area = 1  # First area (row 1)\n",
    "total = cencus_data[area, 1] + cencus_data[area, 2]  # Row 1, Cols 1 + 2\n",
    "survey_data_length = size(survay_data,1);\n",
    "random_indices = rand(1:survey_data_length, total);"
   ]
  },
  {
   "cell_type": "code",
   "execution_count": 46,
   "id": "2637591e-5d95-4012-9ae1-25d4c7b9bcc1",
   "metadata": {},
   "outputs": [],
   "source": [
    "cols = length(survay_headers)\n",
    "synth_pop_totals = zeros(Int,1,cols )  # 1×5 Matrix: [0.0 0.0 0.0 0.0 0.0]\n",
    "for i in random_indices\n",
    "    for j in 1:cols\n",
    "        synth_pop_totals[j]+=survay_data[i,j]\n",
    "    end\n",
    "end"
   ]
  },
  {
   "cell_type": "code",
   "execution_count": 47,
   "id": "e00cc4cf-6508-4073-b9c7-8dc1306b6525",
   "metadata": {},
   "outputs": [],
   "source": [
    "function mutate(random_indices, survay_data, synth_pop_totals)\n",
    "    \"\"\"\n",
    "    Mutate a synthetic population by swapping one individual for another and calculate the new fitness.\n",
    "    \n",
    "    This function performs a mutation operation on a synthetic population by:\n",
    "    1. Randomly selecting an individual to remove from the current population\n",
    "    2. Randomly selecting an individual to add from the survey data\n",
    "    3. Calculating the new population totals and Manhattan distance fitness\n",
    "    \n",
    "    # Arguments\n",
    "    - `random_indices::Vector{Int}`: Vector of indices mapping to individuals in the synthetic population\n",
    "    - `survay_data::Matrix`: Survey data matrix where each row represents an individual\n",
    "    - `synth_pop_totals::Matrix`: Current synthetic population totals (row vector)\n",
    "    \n",
    "    # Returns\n",
    "    - `remove_person_pos::Int`: Position in random_indices of the removed individual\n",
    "    - `add_person_idx::Int`: Index in survay_data of the added individual  \n",
    "    - `temp_manhattan_dist::Number`: Manhattan distance of the new population from census data\n",
    "    - `temp_synth_pop_totals::Matrix`: New synthetic population totals after mutation\n",
    "    \"\"\"\n",
    "    \n",
    "    # Validate input dimensions\n",
    "    @assert size(synth_pop_totals, 1) == 1 \"synth_pop_totals should be a row vector\"\n",
    "    @assert size(survay_data, 2) == size(synth_pop_totals, 2) \"Dimension mismatch between survey data and population totals\"\n",
    "    \n",
    "    # Pick a random individual from the synthetic population to remove\n",
    "    remove_person_pos = rand(1:length(random_indices))\n",
    "    remove_person_idx = random_indices[remove_person_pos]\n",
    "    \n",
    "    # Extract the individual's data as a row vector (maintains matrix dimensions)\n",
    "    remove_person = survay_data[remove_person_pos:remove_person_pos, :]\n",
    "    \n",
    "    # Pick a random individual from the survey data to add  \n",
    "    survey_data_length = size(survay_data, 1)\n",
    "    add_person_idx = rand(1:survey_data_length)\n",
    "    add_person = survay_data[add_person_idx:add_person_idx, :]\n",
    "    \n",
    "    # Create temporary population totals by swapping individuals\n",
    "    # Note: Both remove_person and add_person are row vectors for dimension compatibility\n",
    "    temp_synth_pop_totals = synth_pop_totals - remove_person + add_person\n",
    "    \n",
    "    # Calculate Manhattan distance between new population and census data\n",
    "    # Assuming 'area' and 'cencus_data' are defined in outer scope (consider passing as parameters)\n",
    "    temp_manhattan_dist = sum(abs.(temp_synth_pop_totals - cencus_data[area:area, :]))\n",
    "    \n",
    "    return remove_person_pos, add_person_idx, temp_synth_pop_totals , temp_manhattan_dist\n",
    "end;"
   ]
  },
  {
   "cell_type": "code",
   "execution_count": 48,
   "id": "1772b397-ab8c-42d2-8c47-87fdecf99022",
   "metadata": {},
   "outputs": [
    {
     "name": "stdout",
     "output_type": "stream",
     "text": [
      "62 62 62 62 60 58 56 56 52 50 50 48 48 48 46 46 46 46 46 46 46 46 46 46 46 46 44 44 44 44 44 44 44 44 44 44 44 44 44 44 44 44 44 44 44 44 44 44 44 44 42 42 42 42 42 42 42 40 40 38 38 38 38 38 38 38 38 38 38 38 38 38 38 36 36 36 36 36 36 36 36 36 36 34 34 34 34 34 32 32 32 32 32 32 32 32 32 32 30 30 30 30 30 30 30 30 30 30 30 30 30 30 30 30 30 30 30 30 30 30 30 30 30 30 28 28 26 26 26 24 24 24 24 24 24 24 24 24 24 24 24 24 24 24 24 22 22 20 20 20 20 20 20 20 20 20 20 20 20 20 20 20 20 20 20 20 20 20 20 20 20 20 20 20 20 20 20 20 20 20 20 20 20 20 18 18 18 18 18 18 18 18 18 18 18 18 18 18 18 18 18 18 18 18 18 18 18 18 18 18 18 18 16 16 16 16 16 16 16 16 16 16 16 16 16 16 16 16 16 16 16 16 16 16 16 16 16 16 16 16 16 16 16 16 14 14 14 14 14 14 14 14 14 14 14 14 14 14 14 14 14 14 12 12 12 12 12 12 12 12 12 12 12 12 12 12 10 10 10 10 10 10 10 10 10 10 10 10 10 10 10 10 10 10 10 10 10 10 10 10 10 10 10 10 10 10 10 10 10 10 10 10 10 10 10 10 10 10 10 10 10 10 10 10 10 10 10 10 10 10 10 10 10 10 10 10 10 10 10 10 10 10 10 10 10 10 10 10 10 10 10 10 10 10 10 10 10 10 10 10 10 10 10 10 10 10 10 10 10 10 10 10 10 10 8 8 8 8 8 8 8 8 8 8 8 8 8 8 8 8 8 8 8 8 8 8 8 8 8 8 8 8 8 8 8 8 8 8 8 8 8 8 8 8 8 8 8 8 8 8 8 8 8 8 8 8 8 8 8 8 8 8 8 8 8 8 8 8 8 8 8 6 6 6 6 6 6 6 6 6 6 6 6 6 6 6 6 6 6 6 6 6 6 6 6 6 6 6 6 6 6 6 6 6 6 6 6 6 6 6 6 6 6 6 6 6 6 6 6 6 6 6 6 6 6 6 6 6 6 6 6 6 6 6 6 6 6 6 6 6 6 6 6 6 6 6 6 6 6 6 6 6 6 6 6 6 6 6 6 6 6 6 6 6 6 6 6 6 6 6 6 6 6 6 6 6 6 6 6 6 6 6 6 6 6 6 6 6 6 6 6 6 6 6 6 6 6 6 6 6 6 6 6 6 6 6 6 4 4 4 2 2 2 2 2 2 2 2 2 2 2 2 2 2 2 2 2 2 2 2 2 2 2 2 2 2 2 2 2 2 2 2 2 2 2 2 2 2 2 2 2 2 2 2 2 2 2 2 2 2 2 2 2 2 2 2 2 2 2 2 2 2 2 2 2 2 2 2 2 2 2 2 2 2 2 2 2 2 2 2 2 2 2 2 2 2 2 2 2 2 2 2 2 2 2 2 2 2 2 2 2 2 2 2 2 2 2 0 0 0 0 0 0 0 0 0 0 0 0 0 0 0 0 0 0 0 0 0 0 0 0 0 0 0 0 0 0 0 0 0 0 0 0 0 0 0 0 0 0 0 0 0 0 0 0 0 0 0 0 0 0 0 0 0 0 0 0 0 0 0 0 0 0 0 0 0 0 0 0 0 0 0 0 0 0 0 0 0 0 0 0 0 0 0 0 0 0 0 0 0 0 0 0 0 0 0 0 0 0 0 0 0 0 0 0 0 0 0 0 0 0 0 0 0 0 0 0 0 0 0 0 0 0 0 0 0 0 0 0 0 0 0 0 0 0 0 0 0 0 0 0 0 0 0 0 0 0 0 0 0 0 0 0 0 0 0 0 0 0 0 0 0 0 0 0 0 0 0 0 0 0 0 0 0 0 0 0 0 0 0 0 0 0 0 0 0 0 0 0 0 0 0 0 0 0 0 0 0 0 0 0 0 0 0 0 0 0 0 0 0 0 0 0 0 0 0 0 0 0 0 0 0 0 0 0 0 0 0 0 0 0 0 0 0 0 0 0 0 0 0 0 0 0 0 0 0 0 0 0 0 0 0 0 0 0 0 0 0 0 0 0 0 0 0 0 0 0 0 0 0 0 0 0 0 0 0 0 0 0 0 0 0 0 0 0 0 0 0 0 0 0 0 0 0 0 0 0 0 0 0 0 0 0 0 0 0 0 0 0 0 \n"
     ]
    }
   ],
   "source": [
    "manhattan_dist = sum(abs.(synth_pop_totals - cencus_data[area:area,:]));\n",
    "for _ in 1:1000\n",
    "    remove_person_pos, add_person_idx, temp_synth_pop_totals , temp_manhattan_dist = mutate(random_indices, survay_data, synth_pop_totals)\n",
    "    if temp_manhattan_dist < manhattan_dist\n",
    "        random_indices[remove_person_pos] = add_person_idx\n",
    "        synth_pop_totals = temp_synth_pop_totals\n",
    "        manhattan_dist = temp_manhattan_dist\n",
    "    end\n",
    "    print(\"$manhattan_dist \")\n",
    "end\n",
    "println()        "
   ]
  },
  {
   "cell_type": "code",
   "execution_count": null,
   "id": "619c1534-dd0a-45ce-ba40-9a3b844cf006",
   "metadata": {},
   "outputs": [],
   "source": []
  }
 ],
 "metadata": {
  "kernelspec": {
   "display_name": "Julia 1.11.7",
   "language": "julia",
   "name": "julia-1.11"
  },
  "language_info": {
   "file_extension": ".jl",
   "mimetype": "application/julia",
   "name": "julia",
   "version": "1.11.7"
  }
 },
 "nbformat": 4,
 "nbformat_minor": 5
}
