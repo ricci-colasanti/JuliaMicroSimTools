{
 "cells": [
  {
   "cell_type": "code",
   "execution_count": 89,
   "id": "c4e01ae0-1d0b-4579-b52f-f0382c674fcc",
   "metadata": {},
   "outputs": [],
   "source": [
    "function random_partition(length::Int, total::Int)\n",
    "    vect = zeros(Int,length)\n",
    "    cuts = sort(rand(0:total,length-1))\n",
    "    vect[1]=cuts[1]\n",
    "    for i in 2:length-1\n",
    "        vect[i] = cuts[i]-cuts[i-1]\n",
    "    end\n",
    "    vect[length]=total-cuts[end]\n",
    "    return vect\n",
    "end ;   \n",
    "\n"
   ]
  },
  {
   "cell_type": "code",
   "execution_count": 90,
   "id": "b188a8b2-be7d-44e3-bd8a-dc8ac0dbac7d",
   "metadata": {},
   "outputs": [],
   "source": [
    "function toy_cencus(headers::Vector{Vector{String}},filename::String,number_of_areas::Int)\n",
    "    open(filename, \"w\") do file\n",
    "        header = reduce(vcat, headers)\n",
    "        csv_line = join(header, \",\")\n",
    "        write(file, csv_line * \"\\n\")\n",
    "        for _ in 1:number_of_areas\n",
    "            population_size = rand(50:100)\n",
    "            vect=[]\n",
    "            for v in headers\n",
    "                vect_inner = random_partition(length(v),population_size)\n",
    "                vect = vcat(vect,vect_inner)\n",
    "            end\n",
    "            string_vector = string.(vect)  # . bradcasts the vect to the string [\"10\", \"20\", \"30\", \"40\"]\n",
    "            csv_line = join(string_vector, \",\")  # \"10,20,30,40\"\n",
    "            write(file, csv_line * \"\\n\")\n",
    "        end    \n",
    "    end\n",
    "end;"
   ]
  },
  {
   "cell_type": "code",
   "execution_count": 91,
   "id": "8dc8ac6c-5428-4f81-975a-ed81956913e3",
   "metadata": {},
   "outputs": [],
   "source": [
    "toy_cencus([[\"m\", \"f\"], [\"0-16\", \"17-21\", \"21-40\", \"40-66\", \"67+\"]],\"toy_cencus.csv\",10)"
   ]
  },
  {
   "cell_type": "code",
   "execution_count": 94,
   "id": "48893bbf-1c7a-4588-a217-9cb461013bf5",
   "metadata": {},
   "outputs": [],
   "source": [
    "function toy_survay(headers::Vector{Vector{String}},filename::String,size_of_survay::Int)\n",
    "    open(filename, \"w\") do file\n",
    "        header = reduce(vcat, headers)\n",
    "        csv_line = join(header, \",\")\n",
    "        write(file, csv_line * \"\\n\")\n",
    "        for _ in 1:size_of_survay\n",
    "            vect=[]\n",
    "            for v in headers\n",
    "                vect_inner = zeros(Int,length(v))\n",
    "                vect_inner[rand(1:length(v))]=1\n",
    "                vect = vcat(vect,vect_inner)\n",
    "            end\n",
    "            string_vector = string.(vect)  # . bradcasts the vect to the string [\"10\", \"20\", \"30\", \"40\"]\n",
    "            csv_line = join(string_vector, \",\")  # \"10,20,30,40\"\n",
    "            write(file, csv_line * \"\\n\")\n",
    "        end    \n",
    "    end\n",
    "end;"
   ]
  },
  {
   "cell_type": "code",
   "execution_count": 95,
   "id": "666ee107-5ba4-4c25-889f-1622814b2783",
   "metadata": {},
   "outputs": [],
   "source": [
    "toy_survay([[\"m\", \"f\"], [\"0-16\", \"17-21\", \"21-40\", \"40-66\", \"67+\"]],\"toy_survay.csv\",200)"
   ]
  },
  {
   "cell_type": "code",
   "execution_count": null,
   "id": "710cc8b0-36bf-41e2-bfcb-4b84e3eee7ec",
   "metadata": {},
   "outputs": [],
   "source": []
  },
  {
   "cell_type": "code",
   "execution_count": null,
   "id": "e7e455ff-7ea9-46a6-bd83-5524588d503c",
   "metadata": {},
   "outputs": [],
   "source": []
  }
 ],
 "metadata": {
  "kernelspec": {
   "display_name": "Julia 1.11.7",
   "language": "julia",
   "name": "julia-1.11"
  },
  "language_info": {
   "file_extension": ".jl",
   "mimetype": "application/julia",
   "name": "julia",
   "version": "1.11.7"
  }
 },
 "nbformat": 4,
 "nbformat_minor": 5
}
