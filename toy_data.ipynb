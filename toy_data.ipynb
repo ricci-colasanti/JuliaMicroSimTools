{
 "cells": [
  {
   "cell_type": "markdown",
   "id": "6b7bb92e-4dac-4acb-b110-eb4b238b0198",
   "metadata": {},
   "source": [
    "## Toy data generation\n",
    "\n",
    "This code suite generates synthetic demographic datasets for testing and analysis. The `random_partition` function creates mathematically valid random partitions where numbers sum to specified totals, serving as the core engine. The `toy_census` function generates population data for geographic areas, producing category counts (like gender and age groups) that correctly sum to each area's population size. The `toy_survey` function creates individual response data where each simulated person selects single choices from multiple categories using one-hot encoding. Together, these functions output properly formatted CSV files with headers and data rows, creating ready-to-use synthetic datasets for statistical analysis, machine learning, or data visualization projects."
   ]
  },
  {
   "cell_type": "code",
   "execution_count": 6,
   "id": "c4e01ae0-1d0b-4579-b52f-f0382c674fcc",
   "metadata": {},
   "outputs": [
    {
     "data": {
      "text/plain": [
       "random_partition (generic function with 1 method)"
      ]
     },
     "execution_count": 6,
     "metadata": {},
     "output_type": "execute_result"
    }
   ],
   "source": [
    "function random_partition(length::Int, total::Int)\n",
    "    # Create a vector of zeros with the specified length\n",
    "    vect = zeros(Int, length)\n",
    "    \n",
    "    # Generate (length-1) random cut points between 0 and total, then sort them\n",
    "    # This is like randomly placing markers along a rope of length 'total'\n",
    "    cuts = sort(rand(0:total, length-1))\n",
    "    \n",
    "    # The first segment goes from 0 to the first cut point\n",
    "    vect[1] = cuts[1]\n",
    "    \n",
    "    # For middle segments: each segment is the distance between consecutive cut points\n",
    "    for i in 2:length-1\n",
    "        vect[i] = cuts[i] - cuts[i-1]  # Difference between adjacent cuts\n",
    "    end\n",
    "    \n",
    "    # The last segment goes from the last cut point to the total length\n",
    "    vect[length] = total - cuts[end]\n",
    "    \n",
    "    # Return the partitioned vector (all segments sum to 'total')\n",
    "    return vect\n",
    "end\n"
   ]
  },
  {
   "cell_type": "markdown",
   "id": "1517dea7-f7ba-4ac5-88c5-c41a5ac1b2c5",
   "metadata": {},
   "source": [
    "## **How It Works (Nautical Metaphor):** \n",
    "\n",
    "Imagine ye have a rope of length `total`. Ye want to cut it into `length` pieces:\n",
    "\n",
    "1. **Random Cut Points**: Place `length-1` random marks along the rope\n",
    "2. **Sort Marks**: Arrange the marks in order from smallest to largest  \n",
    "3. **Measure Pieces**: \n",
    "   - First piece: from start to first mark\n",
    "   - Middle pieces: between consecutive marks\n",
    "   - Last piece: from last mark to end\n",
    "\n",
    "**Guaranteed**: All pieces sum to the original rope length! \n",
    "\n",
    "---\n",
    "\n",
    "## **Example:**\n",
    "```julia\n",
    "# Cut a rope of length 10 into 3 pieces\n",
    "result = random_partition(3, 10)\n",
    "# Might produce: [3, 4, 3] → 3 + 4 + 3 = 10 \n",
    "```\n",
    "\n",
    "This be a mathematically elegant way to generate random partitions with uniform distribution! "
   ]
  },
  {
   "cell_type": "code",
   "execution_count": 7,
   "id": "b188a8b2-be7d-44e3-bd8a-dc8ac0dbac7d",
   "metadata": {},
   "outputs": [
    {
     "data": {
      "text/plain": [
       "toy_cencus (generic function with 1 method)"
      ]
     },
     "execution_count": 7,
     "metadata": {},
     "output_type": "execute_result"
    }
   ],
   "source": [
    "function toy_cencus(headers::Vector{Vector{String}}, filename::String, number_of_areas::Int)\n",
    "    # Open the CSV file for writing (creates or overwrites)\n",
    "    open(filename, \"w\") do file\n",
    "        \n",
    "        # Flatten the nested header structure into a single vector\n",
    "        # Example: [[\"m\", \"f\"], [\"0-16\", \"17-21\"]] becomes [\"m\", \"f\", \"0-16\", \"17-21\"]\n",
    "        header = reduce(vcat, headers)\n",
    "        \n",
    "        # Convert the header vector to a CSV line by joining with commas\n",
    "        csv_line = join(header, \",\")\n",
    "        \n",
    "        # Write the header line to the file (adds newline character)\n",
    "        write(file, csv_line * \"\\n\")\n",
    "        \n",
    "        # Generate random census data for the specified number of areas\n",
    "        for _ in 1:number_of_areas\n",
    "            \n",
    "            # Randomly generate a population size between 50 and 100 for this area\n",
    "            population_size = rand(50:100)\n",
    "            \n",
    "            # Initialize an empty vector to store all the census counts\n",
    "            vect = []\n",
    "            \n",
    "            # For each header group (e.g., genders, age groups)\n",
    "            for v in headers\n",
    "                # Generate random partitions that sum to the population_size\n",
    "                # length(v) determines how many categories in this group\n",
    "                vect_inner = random_partition(length(v), population_size)\n",
    "                \n",
    "                # Concatenate the new partitions with existing results\n",
    "                vect = vcat(vect, vect_inner)\n",
    "            end\n",
    "            \n",
    "            # Convert all numbers to strings for CSV output\n",
    "            string_vector = string.(vect)  # Broadcast conversion to string\n",
    "            \n",
    "            # Create a CSV line by joining the string vector with commas\n",
    "            csv_line = join(string_vector, \",\")  # \"23,77,15,32,28,12,13\"\n",
    "            \n",
    "            # Write the data line to the CSV file\n",
    "            write(file, csv_line * \"\\n\")\n",
    "        end    \n",
    "    end\n",
    "end"
   ]
  },
  {
   "cell_type": "markdown",
   "id": "a34cf110-e781-448c-a757-28fe83cfebcc",
   "metadata": {},
   "source": [
    "\n",
    "## **What This Function Does:** \n",
    "\n",
    "1. **Creates a CSV file** with headers from nested string vectors\n",
    "2. **Generates random census data** for multiple geographic areas\n",
    "3. **Each area** has a random population size between 50-100\n",
    "4. **For each header group**, creates random partitions that sum to the area's population\n",
    "5. **Writes both header and data** in proper CSV format\n",
    "\n",
    "---\n",
    "\n",
    "## **Example Output CSV:**\n",
    "```\n",
    "m,f,0-16,17-21,21-40,40-66,67+\n",
    "23,77,15,32,28,12,13\n",
    "45,55,8,41,22,19,10\n",
    "...more rows...\n",
    "```\n",
    "\n",
    "**Header Structure:** `[[\"m\", \"f\"], [\"0-16\", \"17-21\", \"21-40\", \"40-66\", \"67+\"]]`  \n",
    "**Data Pattern:** Each row has 2 gender counts + 5 age group counts = 7 numbers  \n",
    "**Sum Guarantee:** Each group sums to the area's population size \n",
    "\n",
    "---\n"
   ]
  },
  {
   "cell_type": "code",
   "execution_count": 8,
   "id": "48893bbf-1c7a-4588-a217-9cb461013bf5",
   "metadata": {},
   "outputs": [
    {
     "data": {
      "text/plain": [
       "toy_survay (generic function with 1 method)"
      ]
     },
     "execution_count": 8,
     "metadata": {},
     "output_type": "execute_result"
    }
   ],
   "source": [
    "function toy_survay(headers::Vector{Vector{String}}, filename::String, size_of_survay::Int)\n",
    "    # Open the CSV file for writing (creates or overwrites)\n",
    "    open(filename, \"w\") do file\n",
    "        \n",
    "        # Flatten the nested header structure into a single vector\n",
    "        # Example: [[\"m\", \"f\"], [\"0-16\", \"17-21\"]] becomes [\"m\", \"f\", \"0-16\", \"17-21\"]\n",
    "        header = reduce(vcat, headers)\n",
    "        \n",
    "        # Convert the header vector to a CSV line by joining with commas\n",
    "        csv_line = join(header, \",\")\n",
    "        \n",
    "        # Write the header line to the file (adds newline character)\n",
    "        write(file, csv_line * \"\\n\")\n",
    "        \n",
    "        # Generate random survey responses for the specified number of participants\n",
    "        for _ in 1:size_of_survay\n",
    "            \n",
    "            # Initialize an empty vector to store all the survey responses\n",
    "            vect = []\n",
    "            \n",
    "            # For each header group (e.g., genders, age groups, questions)\n",
    "            for v in headers\n",
    "                # Create a vector of zeros with same length as this header group\n",
    "                vect_inner = zeros(Int, length(v))\n",
    "                \n",
    "                # Randomly select one category in this group and set it to 1\n",
    "                # This represents a single-choice response (like radio buttons)\n",
    "                vect_inner[rand(1:length(v))] = 1\n",
    "                \n",
    "                # Concatenate the new response with existing results\n",
    "                vect = vcat(vect, vect_inner)\n",
    "            end\n",
    "            \n",
    "            # Convert all numbers to strings for CSV output (0s and 1s)\n",
    "            string_vector = string.(vect)  # Broadcast conversion to string\n",
    "            \n",
    "            # Create a CSV line by joining the string vector with commas\n",
    "            csv_line = join(string_vector, \",\")  # \"0,1,1,0,0,0\" etc.\n",
    "            \n",
    "            # Write the survey response line to the CSV file\n",
    "            write(file, csv_line * \"\\n\")\n",
    "        end    \n",
    "    end\n",
    "end"
   ]
  },
  {
   "cell_type": "markdown",
   "id": "e26dac1d-720b-4a52-bc64-244bcb704d2a",
   "metadata": {},
   "source": [
    "## **What This Function Does:** \n",
    "\n",
    "1. **Creates a CSV file** with headers from nested string vectors\n",
    "2. **Generates random survey responses** for multiple participants\n",
    "3. **Each participant** provides single-choice responses for each category group\n",
    "4. **Uses one-hot encoding**: One `1` per group, rest are `0`s\n",
    "5. **Writes both header and data** in proper CSV format\n",
    "\n",
    "---\n",
    "\n",
    "## **Example Output CSV:**\n",
    "```\n",
    "gender,age,employed\n",
    "m,f,0-16,17-21,21-40,40-66,67+,yes,no\n",
    "0,1,0,0,1,0,0,1,0\n",
    "1,0,1,0,0,0,0,0,1\n",
    "...more rows...\n",
    "```\n",
    "\n",
    "**Header Structure:** `[[\"m\", \"f\"], [\"0-16\", \"17-21\", \"21-40\", \"40-66\", \"67+\"], [\"yes\", \"no\"]]`  \n",
    "**Data Pattern:** Each row has one `1` per group, all others `0`  \n",
    "**Single Choice:** Each group represents exclusive options (like radio buttons)\n",
    "\n",
    "---\n",
    "\n"
   ]
  },
  {
   "cell_type": "code",
   "execution_count": 9,
   "id": "bd17fb58-6fb2-4ca0-82ea-cd23eb4a61e1",
   "metadata": {},
   "outputs": [],
   "source": [
    "toy_cencus([[\"m\", \"f\"], [\"0-16\", \"17-21\", \"21-40\", \"40-66\", \"67+\"]],\"Data/toy_cencus.csv\",10)\n",
    "toy_survay([[\"m\", \"f\"], [\"0-16\", \"17-21\", \"21-40\", \"40-66\", \"67+\"]],\"Data/toy_survay.csv\",200)"
   ]
  },
  {
   "cell_type": "code",
   "execution_count": null,
   "id": "710cc8b0-36bf-41e2-bfcb-4b84e3eee7ec",
   "metadata": {},
   "outputs": [],
   "source": []
  },
  {
   "cell_type": "code",
   "execution_count": null,
   "id": "e7e455ff-7ea9-46a6-bd83-5524588d503c",
   "metadata": {},
   "outputs": [],
   "source": []
  }
 ],
 "metadata": {
  "kernelspec": {
   "display_name": "Julia 1.11.7",
   "language": "julia",
   "name": "julia-1.11"
  },
  "language_info": {
   "file_extension": ".jl",
   "mimetype": "application/julia",
   "name": "julia",
   "version": "1.11.7"
  }
 },
 "nbformat": 4,
 "nbformat_minor": 5
}
